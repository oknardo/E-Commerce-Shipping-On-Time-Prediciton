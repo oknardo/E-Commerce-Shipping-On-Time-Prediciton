{
 "cells": [
  {
   "cell_type": "code",
   "execution_count": 2,
   "metadata": {},
   "outputs": [],
   "source": [
    "import warnings\n",
    "warnings.filterwarnings('ignore')\n",
    "\n",
    "import pandas as pd\n",
    "import numpy as np\n",
    "from sklearn.preprocessing import RobustScaler\n",
    "from sklearn.model_selection import train_test_split\n",
    "from sklearn.ensemble import RandomForestClassifier\n",
    "from sklearn.metrics import roc_curve, precision_score, recall_score, f1_score, confusion_matrix, classification_report\n",
    "from sklearn.pipeline import Pipeline\n",
    "import pickle\n",
    "\n",
    "\n",
    "df = pd.read_csv('processed_file.csv')"
   ]
  },
  {
   "cell_type": "code",
   "execution_count": 3,
   "metadata": {},
   "outputs": [
    {
     "data": {
      "text/html": [
       "<div>\n",
       "<style scoped>\n",
       "    .dataframe tbody tr th:only-of-type {\n",
       "        vertical-align: middle;\n",
       "    }\n",
       "\n",
       "    .dataframe tbody tr th {\n",
       "        vertical-align: top;\n",
       "    }\n",
       "\n",
       "    .dataframe thead th {\n",
       "        text-align: right;\n",
       "    }\n",
       "</style>\n",
       "<table border=\"1\" class=\"dataframe\">\n",
       "  <thead>\n",
       "    <tr style=\"text-align: right;\">\n",
       "      <th></th>\n",
       "      <th>Calls</th>\n",
       "      <th>Cost</th>\n",
       "      <th>Prior Purchases</th>\n",
       "      <th>Importance</th>\n",
       "      <th>Discount</th>\n",
       "      <th>Weight (gram)</th>\n",
       "      <th>Late</th>\n",
       "    </tr>\n",
       "  </thead>\n",
       "  <tbody>\n",
       "    <tr>\n",
       "      <th>1582</th>\n",
       "      <td>3</td>\n",
       "      <td>143</td>\n",
       "      <td>3</td>\n",
       "      <td>0</td>\n",
       "      <td>64</td>\n",
       "      <td>1630</td>\n",
       "      <td>1</td>\n",
       "    </tr>\n",
       "    <tr>\n",
       "      <th>528</th>\n",
       "      <td>5</td>\n",
       "      <td>261</td>\n",
       "      <td>3</td>\n",
       "      <td>1</td>\n",
       "      <td>8</td>\n",
       "      <td>3257</td>\n",
       "      <td>1</td>\n",
       "    </tr>\n",
       "    <tr>\n",
       "      <th>6783</th>\n",
       "      <td>5</td>\n",
       "      <td>249</td>\n",
       "      <td>3</td>\n",
       "      <td>0</td>\n",
       "      <td>9</td>\n",
       "      <td>5978</td>\n",
       "      <td>1</td>\n",
       "    </tr>\n",
       "    <tr>\n",
       "      <th>4844</th>\n",
       "      <td>5</td>\n",
       "      <td>263</td>\n",
       "      <td>2</td>\n",
       "      <td>0</td>\n",
       "      <td>3</td>\n",
       "      <td>4474</td>\n",
       "      <td>1</td>\n",
       "    </tr>\n",
       "    <tr>\n",
       "      <th>6924</th>\n",
       "      <td>6</td>\n",
       "      <td>245</td>\n",
       "      <td>4</td>\n",
       "      <td>0</td>\n",
       "      <td>10</td>\n",
       "      <td>1606</td>\n",
       "      <td>0</td>\n",
       "    </tr>\n",
       "  </tbody>\n",
       "</table>\n",
       "</div>"
      ],
      "text/plain": [
       "      Calls  Cost  Prior Purchases  Importance  Discount  Weight (gram)  Late\n",
       "1582      3   143                3           0        64           1630     1\n",
       "528       5   261                3           1         8           3257     1\n",
       "6783      5   249                3           0         9           5978     1\n",
       "4844      5   263                2           0         3           4474     1\n",
       "6924      6   245                4           0        10           1606     0"
      ]
     },
     "execution_count": 3,
     "metadata": {},
     "output_type": "execute_result"
    }
   ],
   "source": [
    "df.sample(5)"
   ]
  },
  {
   "cell_type": "code",
   "execution_count": 7,
   "metadata": {},
   "outputs": [
    {
     "name": "stdout",
     "output_type": "stream",
     "text": [
      "\n",
      "Optimal threshold: 0.55\n",
      "Precision: 0.94\n",
      "Recall: 0.51\n",
      "F1-score: 0.66\n",
      "TPR: 0.51\n",
      "FPR: 0.05\n"
     ]
    }
   ],
   "source": [
    "import pandas as pd\n",
    "import numpy as np\n",
    "from sklearn.pipeline import Pipeline\n",
    "from sklearn.preprocessing import RobustScaler\n",
    "from sklearn.ensemble import RandomForestClassifier\n",
    "from sklearn.model_selection import train_test_split\n",
    "from sklearn.metrics import roc_curve, precision_score, recall_score, f1_score, confusion_matrix\n",
    "\n",
    "# DATA\n",
    "X = df.drop('Late', axis=1)\n",
    "y = df['Late']\n",
    "\n",
    "x_train, x_test, y_train, y_test = train_test_split(X, y, test_size=0.3, random_state=42)\n",
    "\n",
    "# Create the pipeline\n",
    "pipeline = Pipeline([\n",
    "    ('scaler', RobustScaler()),\n",
    "    ('classifier', RandomForestClassifier(\n",
    "        max_depth=10,\n",
    "        max_features='log2',\n",
    "        min_samples_leaf=1,\n",
    "        min_samples_split=10,\n",
    "        n_estimators=100,\n",
    "        random_state=42\n",
    "    ))\n",
    "])\n",
    "\n",
    "pipeline.fit(x_train, y_train)\n",
    "\n",
    "# Optimal threshold\n",
    "def find_optimal_threshold(model, x_test, y_test):\n",
    "    y_pred_proba = model.predict_proba(x_test)[:, 1]\n",
    "    fpr, tpr, thresholds = roc_curve(y_test, y_pred_proba)\n",
    "    \n",
    "    candidate_thresholds = thresholds[(tpr > 0.5) & (fpr > 0.05) & (fpr < 0.15)]\n",
    "    optimal_threshold = candidate_thresholds[np.argmax(tpr[fpr > 0.05] - fpr[fpr > 0.05])]\n",
    "    \n",
    "    y_pred_optimal = (y_pred_proba >= optimal_threshold).astype(int)\n",
    "    \n",
    "    precision = precision_score(y_test, y_pred_optimal)\n",
    "    recall = recall_score(y_test, y_pred_optimal)\n",
    "    f1 = f1_score(y_test, y_pred_optimal)\n",
    "    \n",
    "    tn, fp, fn, tp = confusion_matrix(y_test, y_pred_optimal).ravel()\n",
    "    tpr = tp / (tp + fn)\n",
    "    fpr = fp / (fp + tn)\n",
    "    \n",
    "    print(f'\\nOptimal threshold: {optimal_threshold:.2f}')\n",
    "    print(f'Precision: {precision:.2f}')\n",
    "    print(f'Recall: {recall:.2f}')\n",
    "    print(f'F1-score: {f1:.2f}')\n",
    "    print(f'TPR: {tpr:.2f}')\n",
    "    print(f'FPR: {fpr:.2f}')\n",
    "    \n",
    "    return optimal_threshold\n",
    "\n",
    "# Find the optimal threshold\n",
    "optimal_thresh = find_optimal_threshold(pipeline, x_test, y_test)\n"
   ]
  },
  {
   "cell_type": "code",
   "execution_count": 8,
   "metadata": {},
   "outputs": [],
   "source": [
    "from joblib import dump, load\n",
    "\n",
    "# Save the pipeline and the optimal threshold\n",
    "dump((pipeline, optimal_thresh), \"model_pandas.joblib\")\n",
    "\n",
    "# Load the pipeline and the optimal threshold and make predictions\n",
    "loaded_pipeline, loaded_optimal_thresh = load(\"model_pandas.joblib\")\n"
   ]
  },
  {
   "cell_type": "code",
   "execution_count": 9,
   "metadata": {},
   "outputs": [
    {
     "name": "stdout",
     "output_type": "stream",
     "text": [
      "Predictions have been saved to predictions.csv\n"
     ]
    }
   ],
   "source": [
    "import pandas as pd\n",
    "from joblib import load\n",
    "\n",
    "# Load the pipeline and the optimal threshold\n",
    "loaded_pipeline, loaded_optimal_thresh = load(\"model_pandas.joblib\")\n",
    "\n",
    "new_data = pd.read_csv('processed_file.csv')\n",
    "\n",
    "# Drop the 'Late' column if it exists\n",
    "new_data.drop('Late', axis=1, inplace=True)\n",
    "\n",
    "# Transform the new data (excluding the classifier step)\n",
    "new_data_transformed = loaded_pipeline[:-1].transform(new_data)\n",
    "\n",
    "# Predict probabilities and convert them to binary predictions based on the optimal threshold\n",
    "new_predictions_proba = loaded_pipeline.named_steps['classifier'].predict_proba(new_data_transformed)[:, 1]\n",
    "new_predictions = (new_predictions_proba >= loaded_optimal_thresh).astype(int)\n",
    "\n",
    "# df\n",
    "predictions_df = pd.DataFrame(new_predictions, columns=['Predictions'])\n",
    "\n",
    "# Save the predictions to a CSV file\n",
    "predictions_df.to_csv('predictions.csv', index=False)"
   ]
  },
  {
   "cell_type": "code",
   "execution_count": 55,
   "metadata": {},
   "outputs": [
    {
     "name": "stdout",
     "output_type": "stream",
     "text": [
      "[0.56557715]\n"
     ]
    }
   ],
   "source": [
    "print(new_predictions_proba)"
   ]
  },
  {
   "cell_type": "code",
   "execution_count": 57,
   "metadata": {},
   "outputs": [
    {
     "name": "stdout",
     "output_type": "stream",
     "text": [
      "0.5946532687057499\n"
     ]
    }
   ],
   "source": [
    "print(loaded_optimal_thresh)"
   ]
  }
 ],
 "metadata": {
  "kernelspec": {
   "display_name": "Python 3",
   "language": "python",
   "name": "python3"
  },
  "language_info": {
   "codemirror_mode": {
    "name": "ipython",
    "version": 3
   },
   "file_extension": ".py",
   "mimetype": "text/x-python",
   "name": "python",
   "nbconvert_exporter": "python",
   "pygments_lexer": "ipython3",
   "version": "3.10.12"
  }
 },
 "nbformat": 4,
 "nbformat_minor": 2
}
