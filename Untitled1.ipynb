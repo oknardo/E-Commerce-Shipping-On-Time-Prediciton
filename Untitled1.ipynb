{
 "cells": [
  {
   "cell_type": "code",
   "execution_count": 1,
   "id": "b1f2d682-fe20-4e6b-8b50-368230219ac7",
   "metadata": {
    "tags": []
   },
   "outputs": [
    {
     "name": "stdout",
     "output_type": "stream",
     "text": [
      "\n",
      "oknardo:\n",
      "Data cleansing: 4991x\n",
      "feature engineering: 5009x\n",
      "\n",
      "handi:\n",
      "feature engineering: 4959x\n",
      "Data cleansing: 5041x\n"
     ]
    }
   ],
   "source": [
    "import random\n",
    "from collections import Counter\n",
    "\n",
    "# Daftar nama dan tugas\n",
    "names = [\"oknardo\", \"handi\"]\n",
    "tasks = [\"Data cleansing\", \"feature engineering\"]\n",
    "\n",
    "# Fungsi untuk mengacak pembagian tugas\n",
    "def assign_tasks(names, tasks):\n",
    "    assignment = {}\n",
    "    for name in names:\n",
    "        task = random.choice(tasks)\n",
    "        assignment[name] = task\n",
    "    return assignment\n",
    "\n",
    "# Menyimpan hasil pembagian tugas\n",
    "assignments = {name: [] for name in names}\n",
    "\n",
    "# Jalankan 10 kali dan simpan hasilnya\n",
    "for i in range(10000):\n",
    "    assignment = assign_tasks(names, tasks)\n",
    "    for name, task in assignment.items():\n",
    "        assignments[name].append(task)\n",
    "\n",
    "# Hitung frekuensi setiap tugas untuk setiap nama\n",
    "task_counts = {name: Counter(tasks) for name, tasks in assignments.items()}\n",
    "\n",
    "# Cetak hasil rata-rata\n",
    "for name, counts in task_counts.items():\n",
    "    print(f\"\\n{name}:\")\n",
    "    for task, count in counts.items():\n",
    "        print(f\"{task}: {count}x\")"
   ]
  },
  {
   "cell_type": "code",
   "execution_count": null,
   "id": "c288d945-c08d-4894-b107-6c7bc71a77e1",
   "metadata": {},
   "outputs": [],
   "source": []
  },
  {
   "cell_type": "code",
   "execution_count": null,
   "id": "52d1273b-c387-4676-9824-93d6648128b5",
   "metadata": {},
   "outputs": [],
   "source": []
  }
 ],
 "metadata": {
  "kernelspec": {
   "display_name": "Python 3 (ipykernel)",
   "language": "python",
   "name": "python3"
  },
  "language_info": {
   "codemirror_mode": {
    "name": "ipython",
    "version": 3
   },
   "file_extension": ".py",
   "mimetype": "text/x-python",
   "name": "python",
   "nbconvert_exporter": "python",
   "pygments_lexer": "ipython3",
   "version": "3.11.5"
  }
 },
 "nbformat": 4,
 "nbformat_minor": 5
}
