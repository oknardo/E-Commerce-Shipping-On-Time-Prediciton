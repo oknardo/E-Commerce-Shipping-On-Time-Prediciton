{
 "cells": [
  {
   "cell_type": "markdown",
   "metadata": {},
   "source": [
    "# **Import Library**"
   ]
  },
  {
   "cell_type": "code",
   "execution_count": 24,
   "metadata": {},
   "outputs": [
    {
     "name": "stdout",
     "output_type": "stream",
     "text": [
      "numpy version :  1.26.4\n",
      "pandas version :  2.2.1\n",
      "seaborn version :  0.13.2\n"
     ]
    }
   ],
   "source": [
    "import warnings\n",
    "warnings.filterwarnings('ignore')\n",
    "\n",
    "import pandas as pd\n",
    "import matplotlib.pyplot as plt\n",
    "import matplotlib.patches as mpatches\n",
    "import seaborn as sns\n",
    "import numpy as np\n",
    "import plotly.express as px\n",
    "import glob\n",
    "from scipy import stats\n",
    "\n",
    "print('numpy version : ',np.__version__)\n",
    "print('pandas version : ',pd.__version__)\n",
    "print('seaborn version : ',sns.__version__)"
   ]
  },
  {
   "cell_type": "code",
   "execution_count": 25,
   "metadata": {},
   "outputs": [],
   "source": [
    "from matplotlib import rcParams\n",
    "\n",
    "rcParams['figure.figsize'] = 12, 4\n",
    "rcParams['lines.linewidth'] = 3\n",
    "rcParams['xtick.labelsize'] = 'large'\n",
    "rcParams['ytick.labelsize'] = 'large'"
   ]
  },
  {
   "cell_type": "markdown",
   "metadata": {},
   "source": [
    "# **Import Dataset**"
   ]
  },
  {
   "cell_type": "code",
   "execution_count": 46,
   "metadata": {},
   "outputs": [
    {
     "data": {
      "text/html": [
       "<div>\n",
       "<style scoped>\n",
       "    .dataframe tbody tr th:only-of-type {\n",
       "        vertical-align: middle;\n",
       "    }\n",
       "\n",
       "    .dataframe tbody tr th {\n",
       "        vertical-align: top;\n",
       "    }\n",
       "\n",
       "    .dataframe thead th {\n",
       "        text-align: right;\n",
       "    }\n",
       "</style>\n",
       "<table border=\"1\" class=\"dataframe\">\n",
       "  <thead>\n",
       "    <tr style=\"text-align: right;\">\n",
       "      <th></th>\n",
       "      <th>Calls</th>\n",
       "      <th>Cost</th>\n",
       "      <th>Purchases</th>\n",
       "      <th>Importance</th>\n",
       "      <th>Discount</th>\n",
       "      <th>Weight (gram)</th>\n",
       "      <th>Late</th>\n",
       "      <th>Weight_category_encoded</th>\n",
       "      <th>Reorder_purchases</th>\n",
       "    </tr>\n",
       "  </thead>\n",
       "  <tbody>\n",
       "    <tr>\n",
       "      <th>908</th>\n",
       "      <td>0.0</td>\n",
       "      <td>0.256098</td>\n",
       "      <td>1.0</td>\n",
       "      <td>0</td>\n",
       "      <td>2.500000</td>\n",
       "      <td>-0.648809</td>\n",
       "      <td>1.0</td>\n",
       "      <td>0.000000</td>\n",
       "      <td>0.0</td>\n",
       "    </tr>\n",
       "    <tr>\n",
       "      <th>5271</th>\n",
       "      <td>1.5</td>\n",
       "      <td>0.353659</td>\n",
       "      <td>1.0</td>\n",
       "      <td>1</td>\n",
       "      <td>-0.166667</td>\n",
       "      <td>-0.868089</td>\n",
       "      <td>1.0</td>\n",
       "      <td>-0.666667</td>\n",
       "      <td>0.0</td>\n",
       "    </tr>\n",
       "    <tr>\n",
       "      <th>7496</th>\n",
       "      <td>0.5</td>\n",
       "      <td>0.280488</td>\n",
       "      <td>2.0</td>\n",
       "      <td>0</td>\n",
       "      <td>-1.000000</td>\n",
       "      <td>-0.817007</td>\n",
       "      <td>0.0</td>\n",
       "      <td>-0.666667</td>\n",
       "      <td>0.0</td>\n",
       "    </tr>\n",
       "    <tr>\n",
       "      <th>7159</th>\n",
       "      <td>-0.5</td>\n",
       "      <td>-0.451220</td>\n",
       "      <td>1.0</td>\n",
       "      <td>1</td>\n",
       "      <td>-0.666667</td>\n",
       "      <td>-0.934745</td>\n",
       "      <td>0.0</td>\n",
       "      <td>-0.666667</td>\n",
       "      <td>0.0</td>\n",
       "    </tr>\n",
       "    <tr>\n",
       "      <th>2504</th>\n",
       "      <td>-1.0</td>\n",
       "      <td>-0.292683</td>\n",
       "      <td>5.0</td>\n",
       "      <td>1</td>\n",
       "      <td>4.333333</td>\n",
       "      <td>-0.218346</td>\n",
       "      <td>1.0</td>\n",
       "      <td>0.000000</td>\n",
       "      <td>0.0</td>\n",
       "    </tr>\n",
       "    <tr>\n",
       "      <th>6299</th>\n",
       "      <td>0.5</td>\n",
       "      <td>0.536585</td>\n",
       "      <td>2.0</td>\n",
       "      <td>1</td>\n",
       "      <td>0.000000</td>\n",
       "      <td>-0.725744</td>\n",
       "      <td>0.0</td>\n",
       "      <td>-0.666667</td>\n",
       "      <td>0.0</td>\n",
       "    </tr>\n",
       "    <tr>\n",
       "      <th>8083</th>\n",
       "      <td>0.0</td>\n",
       "      <td>-0.475610</td>\n",
       "      <td>0.0</td>\n",
       "      <td>0</td>\n",
       "      <td>-0.166667</td>\n",
       "      <td>0.140477</td>\n",
       "      <td>1.0</td>\n",
       "      <td>0.666667</td>\n",
       "      <td>0.0</td>\n",
       "    </tr>\n",
       "    <tr>\n",
       "      <th>5459</th>\n",
       "      <td>0.0</td>\n",
       "      <td>-0.829268</td>\n",
       "      <td>0.0</td>\n",
       "      <td>0</td>\n",
       "      <td>0.500000</td>\n",
       "      <td>0.515808</td>\n",
       "      <td>0.0</td>\n",
       "      <td>1.333333</td>\n",
       "      <td>0.0</td>\n",
       "    </tr>\n",
       "    <tr>\n",
       "      <th>5093</th>\n",
       "      <td>0.5</td>\n",
       "      <td>0.280488</td>\n",
       "      <td>1.0</td>\n",
       "      <td>0</td>\n",
       "      <td>0.166667</td>\n",
       "      <td>0.399626</td>\n",
       "      <td>0.0</td>\n",
       "      <td>1.333333</td>\n",
       "      <td>0.0</td>\n",
       "    </tr>\n",
       "    <tr>\n",
       "      <th>4560</th>\n",
       "      <td>1.0</td>\n",
       "      <td>0.804878</td>\n",
       "      <td>1.0</td>\n",
       "      <td>1</td>\n",
       "      <td>-0.333333</td>\n",
       "      <td>-0.846597</td>\n",
       "      <td>0.0</td>\n",
       "      <td>-0.666667</td>\n",
       "      <td>0.0</td>\n",
       "    </tr>\n",
       "  </tbody>\n",
       "</table>\n",
       "</div>"
      ],
      "text/plain": [
       "      Calls      Cost  Purchases  Importance  Discount  Weight (gram)  Late  \\\n",
       "908     0.0  0.256098        1.0           0  2.500000      -0.648809   1.0   \n",
       "5271    1.5  0.353659        1.0           1 -0.166667      -0.868089   1.0   \n",
       "7496    0.5  0.280488        2.0           0 -1.000000      -0.817007   0.0   \n",
       "7159   -0.5 -0.451220        1.0           1 -0.666667      -0.934745   0.0   \n",
       "2504   -1.0 -0.292683        5.0           1  4.333333      -0.218346   1.0   \n",
       "6299    0.5  0.536585        2.0           1  0.000000      -0.725744   0.0   \n",
       "8083    0.0 -0.475610        0.0           0 -0.166667       0.140477   1.0   \n",
       "5459    0.0 -0.829268        0.0           0  0.500000       0.515808   0.0   \n",
       "5093    0.5  0.280488        1.0           0  0.166667       0.399626   0.0   \n",
       "4560    1.0  0.804878        1.0           1 -0.333333      -0.846597   0.0   \n",
       "\n",
       "      Weight_category_encoded  Reorder_purchases  \n",
       "908                  0.000000                0.0  \n",
       "5271                -0.666667                0.0  \n",
       "7496                -0.666667                0.0  \n",
       "7159                -0.666667                0.0  \n",
       "2504                 0.000000                0.0  \n",
       "6299                -0.666667                0.0  \n",
       "8083                 0.666667                0.0  \n",
       "5459                 1.333333                0.0  \n",
       "5093                 1.333333                0.0  \n",
       "4560                -0.666667                0.0  "
      ]
     },
     "execution_count": 46,
     "metadata": {},
     "output_type": "execute_result"
    }
   ],
   "source": [
    "df = pd.read_csv('train_prototipe.csv')\n",
    "\n",
    "# Replace the values in the 'Late' column\n",
    "df['Late'] = df['Late'].replace({-1: 0, 0: 1})\n",
    "\n",
    "df.sample(10)\n"
   ]
  },
  {
   "cell_type": "markdown",
   "metadata": {},
   "source": [
    "# **Stage 3**"
   ]
  },
  {
   "cell_type": "markdown",
   "metadata": {},
   "source": [
    "## **Modelling**"
   ]
  },
  {
   "cell_type": "markdown",
   "metadata": {},
   "source": [
    "### **Function**"
   ]
  },
  {
   "cell_type": "code",
   "execution_count": 84,
   "metadata": {},
   "outputs": [],
   "source": [
    "from sklearn.metrics import roc_curve, auc\n",
    "import matplotlib.pyplot as plt\n",
    "\n",
    "def plot_roc(model):\n",
    "    y_pred = model.predict_proba(x_test)[:,1]\n",
    "    fpr, tpr, threshold = roc_curve(y_test, y_pred)\n",
    "    roc_auc = auc(fpr, tpr)\n",
    "    plt.figure(figsize=(6, 3))\n",
    "    plt.title('Receiver Operating Characteristic')\n",
    "    plt.plot(fpr, tpr, 'b', label = 'AUC = %0.2f' % roc_auc)\n",
    "    plt.legend(loc = 'lower right')\n",
    "    plt.plot([0, 1], [0,1],'r--')\n",
    "    plt.xlim([0, 1])\n",
    "    plt.ylim([0, 1])\n",
    "    plt.plot([0,1], [0,1], 'k--' )\n",
    "    plt.ylabel('True Positive Rate')\n",
    "    plt.xlabel('False Positive Rate')\n",
    "    plt.show()\n"
   ]
  },
  {
   "cell_type": "code",
   "execution_count": 65,
   "metadata": {},
   "outputs": [],
   "source": [
    "def plot_feature_importances(model, x_train, model_name):\n",
    "    import pandas as pd\n",
    "    import matplotlib.pyplot as plt\n",
    "\n",
    "    # DataFrame dengan tingkat kepentingan fitur\n",
    "    feature_importances = pd.DataFrame({\n",
    "        'feature': x_train.columns,\n",
    "        'importance': model.feature_importances_\n",
    "    })\n",
    "\n",
    "    # Reset index DataFrame\n",
    "    feature_importances = feature_importances.reset_index(drop=True)\n",
    "\n",
    "    # Group by\n",
    "    fi = feature_importances.groupby('feature')['importance'].mean().sort_values(ascending=False)[:20][::-1]\n",
    "\n",
    "    # Plot\n",
    "    plt.figure(figsize=(6, 3))\n",
    "    fi.plot(kind='barh')\n",
    "    plt.xlabel('Feature Importance')\n",
    "    plt.ylabel('Feature')\n",
    "    plt.title(f'Top Feature Importances - {model_name}')\n",
    "    plt.show()\n",
    "\n",
    "# Contoh pemanggilan\n",
    "# plot_feature_importances(best_model_xgb, x_train, 'XGBRegressor')\n"
   ]
  },
  {
   "cell_type": "code",
   "execution_count": 20,
   "metadata": {},
   "outputs": [],
   "source": [
    "from sklearn.metrics import mean_absolute_error, mean_squared_error, mean_absolute_percentage_error, r2_score\n",
    "from sklearn.model_selection import cross_validate\n",
    "\n",
    "def eval_regression(model):\n",
    "  y_pred = model.predict(x_test)\n",
    "  y_pred_train = model.predict(x_train)\n",
    "\n",
    "  print('RMSE (test): ' + str(mean_squared_error(y_test, y_pred, squared=False)))\n",
    "  print('RMSE (train): ' + str(mean_squared_error(y_train, y_pred_train, squared=False)))\n",
    "\n",
    "  print('MAPE (test): ' + str(mean_absolute_percentage_error(y_test, y_pred)))\n",
    "  print('MAPE (train): ' + str(mean_absolute_percentage_error(y_train, y_pred_train)))\n",
    "\n",
    "  print('r2 (test): ' + str(r2_score(y_test, y_pred)))\n",
    "  print('r2 (train): ' + str(r2_score(y_train, y_pred_train)))\n",
    "\n",
    "  # k-fold cross validation\n",
    "  score = cross_validate(model, x, y, cv=5, scoring='r2', return_train_score=True)\n",
    "  print('r2 (cross-val test): ' + str(score['test_score'].mean()))\n",
    "  print('r2 (cross-val train): ' + str(score['train_score'].mean()))\n",
    "\n",
    "#contoh pemanggilan\n",
    "#eval_regression(regressor)"
   ]
  },
  {
   "cell_type": "code",
   "execution_count": 75,
   "metadata": {},
   "outputs": [],
   "source": [
    "import pandas as pd\n",
    "from sklearn.metrics import accuracy_score, precision_score, recall_score, f1_score, roc_auc_score, confusion_matrix, classification_report\n",
    "from sklearn.model_selection import cross_validate\n",
    "from sklearn.ensemble import RandomForestClassifier\n",
    "import matplotlib.pyplot as plt\n",
    "\n",
    "def eval_classification(model):\n",
    "    y_pred = model.predict(x_test)\n",
    "    y_pred_train = model.predict(x_train)\n",
    "    y_pred_proba = model.predict_proba(x_test)\n",
    "    y_pred_proba_train = model.predict_proba(x_train)\n",
    "    \n",
    "    # Evaluation Metrics\n",
    "    print(\"Accuracy (Test Set): %.2f\" % accuracy_score(y_test, y_pred))\n",
    "    print(\"Precision (Test Set): %.2f\" % precision_score(y_test, y_pred))\n",
    "    print(\"Recall (Test Set): %.2f\" % recall_score(y_test, y_pred))\n",
    "    print(\"F1-Score (Test Set): %.2f\" % f1_score(y_test, y_pred))\n",
    "    print(\"ROC AUC (Test Set): %.2f\" % roc_auc_score(y_test, y_pred_proba[:, 1]))\n",
    "    print(\"ROC AUC (Train Set): %.2f\" % roc_auc_score(y_train, y_pred_proba_train[:, 1]))\n",
    "\n",
    "   \n",
    "    # Cross-validation\n",
    "    score = cross_validate(model, x_train, y_train, cv=5, scoring='recall', return_train_score=True)\n",
    "    print('\\nRecall (Cross-validation Train): %.2f' % score['train_score'].mean())\n",
    "    print('Recall (Cross-validation Test): %.2f' % score['test_score'].mean())\n",
    "    \n",
    "    # Confusion Matrix\n",
    "    print(\"\\nConfusion Matrix (Test Set):\\n\", confusion_matrix(y_test, y_pred))\n",
    "    print(\"\\nClassification Report (Test Set):\\n\", classification_report(y_test, y_pred))\n",
    "\n",
    "def show_best_hyperparameter(model):\n",
    "    if hasattr(model, 'best_estimator_'):\n",
    "        print(model.best_estimator_.get_params())\n",
    "    else:\n",
    "        print(\"The model is not a GridSearchCV or RandomizedSearchCV instance.\")\n",
    "\n",
    "# Example usage\n",
    "# Assuming x_train, x_test, y_train, y_test are already defined\n",
    "#model = RandomForestClassifier(random_state=42)\n",
    "#model.fit(x_train, y_train.values.ravel())\n",
    "\n",
    "#eval_classification(model, x_train, y_train, x_test, y_test)\n",
    "#show_feature_importance(model, x_train)"
   ]
  },
  {
   "cell_type": "code",
   "execution_count": 73,
   "metadata": {},
   "outputs": [],
   "source": [
    "import matplotlib.pyplot as plt\n",
    "import seaborn as sns\n",
    "from sklearn.metrics import confusion_matrix\n",
    "\n",
    "def plot_confusion_matrix(model):\n",
    "    # Generate predictions\n",
    "    y_pred = model.predict(x_test)\n",
    "    \n",
    "    # Compute confusion matrix\n",
    "    cm = confusion_matrix(y_test, y_pred)\n",
    "    \n",
    "    # Plot the confusion matrix\n",
    "    plt.figure(figsize=(8,5))\n",
    "    sns.heatmap(cm, annot=True, fmt='d', cmap='Blues', \n",
    "                xticklabels=['0', '1'], \n",
    "                yticklabels=['0', '1'])\n",
    "    plt.title('Confusion Matrix')\n",
    "    plt.xlabel('Predicted Labels')\n",
    "    plt.ylabel('True Labels')\n",
    "    plt.show()\n"
   ]
  },
  {
   "cell_type": "code",
   "execution_count": 81,
   "metadata": {},
   "outputs": [],
   "source": [
    "from sklearn.ensemble import RandomForestClassifier\n",
    "from sklearn.svm import SVC\n",
    "\n",
    "def draw_learning_curve(model_type, param_values):\n",
    "    if model_type == 'LogisticRegression':\n",
    "        model = LogisticRegression()\n",
    "    elif model_type == 'KNeighborsClassifier':\n",
    "        model = KNeighborsClassifier()\n",
    "    elif model_type == 'DecisionTreeClassifier':\n",
    "        model = DecisionTreeClassifier()\n",
    "    elif model_type == 'RandomForestClassifier':\n",
    "        model = RandomForestClassifier()\n",
    "    elif model_type == 'SVC':\n",
    "        model = SVC(probability=True)\n",
    "    else:\n",
    "        raise ValueError(\"Invalid model type. Supported types are 'LogisticRegression', 'KNeighborsClassifier', 'DecisionTreeClassifier', 'RandomForestClassifier', and 'SVC'.\")\n",
    "\n",
    "    train_scores = []\n",
    "    test_scores = []\n",
    "\n",
    "    for param_value in param_values:\n",
    "        if model_type == 'LogisticRegression':\n",
    "            model.set_params(C=param_value)\n",
    "        elif model_type == 'KNeighborsClassifier':\n",
    "            model.set_params(n_neighbors=param_value)\n",
    "        elif model_type == 'DecisionTreeClassifier':\n",
    "            model.set_params(max_depth=param_value)\n",
    "        elif model_type == 'RandomForestClassifier':\n",
    "            model.set_params(n_estimators=param_value)\n",
    "        elif model_type == 'SVC':\n",
    "            model.set_params(C=param_value)\n",
    "\n",
    "        model.fit(X_train, y_train)\n",
    "\n",
    "        # eval on train\n",
    "        y_pred_train_proba = model.predict_proba(X_train)\n",
    "        train_auc = roc_auc_score(y_train, y_pred_train_proba[:,1])\n",
    "        train_scores.append(train_auc)\n",
    "\n",
    "        # eval on test\n",
    "        y_pred_proba = model.predict_proba(X_test)\n",
    "        test_auc = roc_auc_score(y_test, y_pred_proba[:,1])\n",
    "        test_scores.append(test_auc)\n",
    "\n",
    "        print('param value: ' + str(param_value) + '; train: ' + str(train_auc) + '; test: '+ str(test_auc))\n",
    "\n",
    "    plt.plot(param_values, train_scores, label='Train')\n",
    "    plt.plot(param_values, test_scores, label='Test')\n",
    "    plt.xlabel('Parameter Value')\n",
    "    plt.ylabel('AUC')\n",
    "    plt.title('Learning Curve - Hyperparameter Tuning - ' + model_type)\n",
    "    plt.legend()\n",
    "    plt.show()\n",
    "\n",
    "#contoh pemanggilan\n",
    "#param_values_rf = [50, 100, 150, 200]\n",
    "#draw_learning_curve('RandomForestClassifier', param_values_rf)\n",
    "\n",
    "#param_values_svc = [0.1, 1, 10]\n",
    "#draw_learning_curve('SVC', param_values_svc)\n"
   ]
  },
  {
   "cell_type": "markdown",
   "metadata": {},
   "source": [
    "### **Split Dataset**"
   ]
  },
  {
   "cell_type": "code",
   "execution_count": 47,
   "metadata": {},
   "outputs": [],
   "source": [
    "x = df.drop(columns=['Late'])\n",
    "y = df[['Late']]\n",
    "\n",
    "from sklearn.model_selection import train_test_split\n",
    "x_train, x_test, y_train, y_test = train_test_split(x, y, test_size=0.3, random_state=42)"
   ]
  },
  {
   "cell_type": "code",
   "execution_count": 33,
   "metadata": {},
   "outputs": [
    {
     "name": "stdout",
     "output_type": "stream",
     "text": [
      "x_train shape: (7699, 8)\n",
      "x_test shape: (3300, 8)\n",
      "y_train shape: (7699, 1)\n",
      "y_test shape: (3300, 1)\n",
      "Training set ratio: 0.70\n",
      "Test set ratio: 0.30\n"
     ]
    }
   ],
   "source": [
    "print(f\"x_train shape: {x_train.shape}\")\n",
    "print(f\"x_test shape: {x_test.shape}\")\n",
    "print(f\"y_train shape: {y_train.shape}\")\n",
    "print(f\"y_test shape: {y_test.shape}\")\n",
    "\n",
    "train_ratio = len(x_train) / len(x)\n",
    "test_ratio = len(x_test) / len(x)\n",
    "\n",
    "print(f\"Training set ratio: {train_ratio:.2f}\")\n",
    "print(f\"Test set ratio: {test_ratio:.2f}\")\n"
   ]
  },
  {
   "cell_type": "markdown",
   "metadata": {},
   "source": [
    "### **XGB Regressor**"
   ]
  },
  {
   "cell_type": "markdown",
   "metadata": {},
   "source": [
    "### **Decision Tree**"
   ]
  },
  {
   "cell_type": "code",
   "execution_count": 83,
   "metadata": {},
   "outputs": [
    {
     "name": "stdout",
     "output_type": "stream",
     "text": [
      "Accuracy (Test Set): 0.65\n",
      "Precision (Test Set): 0.71\n",
      "Recall (Test Set): 0.71\n",
      "F1-Score (Test Set): 0.71\n",
      "ROC AUC (Test Set): 0.64\n",
      "ROC AUC (Train Set): 1.00\n",
      "\n",
      "Recall (Cross-validation Train): 1.00\n",
      "Recall (Cross-validation Test): 0.70\n",
      "\n",
      "Confusion Matrix (Test Set):\n",
      " [[ 740  572]\n",
      " [ 567 1421]]\n",
      "\n",
      "Classification Report (Test Set):\n",
      "               precision    recall  f1-score   support\n",
      "\n",
      "         0.0       0.57      0.56      0.57      1312\n",
      "         1.0       0.71      0.71      0.71      1988\n",
      "\n",
      "    accuracy                           0.65      3300\n",
      "   macro avg       0.64      0.64      0.64      3300\n",
      "weighted avg       0.65      0.65      0.65      3300\n",
      "\n"
     ]
    },
    {
     "data": {
      "image/png": "[encoded data removed]",
      "text/plain": [
       "<Figure size 800x500 with 2 Axes>"
      ]
     },
     "metadata": {},
     "output_type": "display_data"
    },
    {
     "data": {
      "image/png": "[encoded data removed]",
      "text/plain": [
       "<Figure size 1000x800 with 1 Axes>"
      ]
     },
     "metadata": {},
     "output_type": "display_data"
    },
    {
     "data": {
      "image/png": "[encoded data removed]",
      "text/plain": [
       "<Figure size 400x200 with 1 Axes>"
      ]
     },
     "metadata": {},
     "output_type": "display_data"
    }
   ],
   "source": [
    "from sklearn.tree import DecisionTreeClassifier\n",
    "\n",
    "dt = DecisionTreeClassifier()\n",
    "dt.fit(x_train, y_train)\n",
    "eval_classification(dt)\n",
    "plot_confusion_matrix(dt)\n",
    "show_feature_importance(dt)\n",
    "plot_roc(dt)"
   ]
  },
  {
   "cell_type": "code",
   "execution_count": null,
   "metadata": {},
   "outputs": [],
   "source": []
  }
 ],
 "metadata": {
  "kernelspec": {
   "display_name": "Python 3",
   "language": "python",
   "name": "python3"
  },
  "language_info": {
   "codemirror_mode": {
    "name": "ipython",
    "version": 3
   },
   "file_extension": ".py",
   "mimetype": "text/x-python",
   "name": "python",
   "nbconvert_exporter": "python",
   "pygments_lexer": "ipython3",
   "version": "3.10.12"
  }
 },
 "nbformat": 4,
 "nbformat_minor": 2
}
